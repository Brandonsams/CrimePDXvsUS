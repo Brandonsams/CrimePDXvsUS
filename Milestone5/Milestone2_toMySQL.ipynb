{
 "cells": [
  {
   "cell_type": "markdown",
   "metadata": {},
   "source": [
    "# Milestone 2\n",
    "\n",
    "Brandon Sams\n",
    "\n",
    "19Apr2020"
   ]
  },
  {
   "cell_type": "markdown",
   "metadata": {},
   "source": [
    "## Perform at least 5 data transformation and/or cleansing steps to your flat file data. For example:\n",
    "\t• Replace Headers\n",
    "\t• Format data into a more readable format\n",
    "\t• Identify outliers and bad data\n",
    "\t• Find duplicates\n",
    "\t• Fix casing or inconsistent values\n",
    "\t• Conduct Fuzzy Matching"
   ]
  },
  {
   "cell_type": "code",
   "execution_count": 31,
   "metadata": {},
   "outputs": [
    {
     "output_type": "execute_result",
     "data": {
      "text/plain": "(202552, 17)"
     },
     "metadata": {},
     "execution_count": 31
    }
   ],
   "source": [
    "import pandas as pd\n",
    "\n",
    "# Import the csv from a flat file\n",
    "pdx_crime = pd.read_csv('Open_Data_Sheet_data.csv')\n",
    "pdx_crime.shape"
   ]
  },
  {
   "cell_type": "code",
   "execution_count": 32,
   "metadata": {},
   "outputs": [],
   "source": [
    "# Replace Headers\n",
    "headers = ['address','case_num','crime_against','neighborhood','num_records','occur_date','occur_month_year','occur_time','offense_category','offense_count','offense_type','lat','long','x','y','report_date','report_month_year']\n",
    "\n",
    "pdx_crime.columns = headers"
   ]
  },
  {
   "cell_type": "code",
   "execution_count": 33,
   "metadata": {},
   "outputs": [],
   "source": [
    "# Format data into a more readable format\n",
    "\n",
    "# Make dates into datetime objects\n",
    "date_attributes = ['occur_date','occur_month_year','report_date','report_month_year']\n",
    "for att in date_attributes:\n",
    "    pdx_crime[att] = pd.to_datetime(pdx_crime[att], infer_datetime_format=True)"
   ]
  },
  {
   "cell_type": "code",
   "execution_count": 34,
   "metadata": {},
   "outputs": [
    {
     "output_type": "stream",
     "name": "stdout",
     "text": "There are 8290 rows where the latitude is considered an outlier.\nThere are 68 rows where the longitude is considered an outlier.\n"
    }
   ],
   "source": [
    "# Identify outliers and bad data\n",
    "def detect_iqr(ser):\n",
    "    Q1 = ser.quantile(0.25)\n",
    "    Q3 = ser.quantile(0.75)\n",
    "    IQR = Q3 - Q1\n",
    "    return((ser < (Q1 - 1.5 * IQR)) | (ser > (Q3 + 1.5 * IQR)))\n",
    "\n",
    "print(f'There are {pdx_crime[detect_iqr(pdx_crime[\"lat\"]) == True].shape[0]} rows where the latitude is considered an outlier.')\n",
    "print(f'There are {pdx_crime[detect_iqr(pdx_crime[\"long\"]) == True].shape[0]} rows where the longitude is considered an outlier.')"
   ]
  },
  {
   "cell_type": "code",
   "execution_count": 35,
   "metadata": {},
   "outputs": [
    {
     "output_type": "stream",
     "name": "stdout",
     "text": "num_records has 1 distinct value\nThere are 2354 duplicated rows\n"
    }
   ],
   "source": [
    "# Find duplicates\n",
    "\n",
    "# column with a single value\n",
    "print(f'num_records has {pdx_crime.num_records.value_counts().shape[0]} distinct value')\n",
    "pdx_crime.drop(columns = ['num_records'], inplace = True)\n",
    "\n",
    "# count duplicate rows\n",
    "print(f'There are {pdx_crime[pdx_crime.duplicated() == True].shape[0]} duplicated rows')\n",
    "pdx_crime.drop_duplicates(keep=False,inplace=True)"
   ]
  },
  {
   "cell_type": "code",
   "execution_count": 36,
   "metadata": {},
   "outputs": [],
   "source": [
    "# Fix casing or inconsistent values\n",
    "string_attributes = ['address','crime_against','neighborhood','offense_category','offense_type']\n",
    "for att in string_attributes:\n",
    "    pdx_crime[att] = pdx_crime[att].str.upper()"
   ]
  },
  {
   "cell_type": "code",
   "execution_count": 37,
   "metadata": {},
   "outputs": [],
   "source": [
    "df = pdx_crime"
   ]
  },
  {
   "cell_type": "code",
   "execution_count": 38,
   "metadata": {},
   "outputs": [
    {
     "output_type": "execute_result",
     "data": {
      "text/plain": "                              address   case_num crime_against  neighborhood  \\\n0           3600 BLOCK OF SE KNAPP ST  17-902332      PROPERTY  EASTMORELAND   \n1         3600 BLOCK OF SE LAMBERT ST  17-902346      PROPERTY  EASTMORELAND   \n2           7200 BLOCK OF SE 32ND AVE  17-902450      PROPERTY  EASTMORELAND   \n3           6500 BLOCK OF SE 32ND AVE  17-902495      PROPERTY  EASTMORELAND   \n4             500 BLOCK OF N DIXON ST  17-901848      PROPERTY         ELIOT   \n...                               ...        ...           ...           ...   \n202547       SE 3RD AVE / SE ALDER ST  17-904237      PROPERTY  BUCKMAN WEST   \n202548   1000 BLOCK OF SE MORRISON ST  17-904282      PROPERTY  BUCKMAN WEST   \n202549       100 BLOCK OF SE STARK ST  17-904261      PROPERTY  BUCKMAN WEST   \n202550       1100 BLOCK OF SE 6TH AVE  17-904274      PROPERTY  BUCKMAN WEST   \n202551  14900 BLOCK OF SE WOODWARD ST   17-61925      PROPERTY    CENTENNIAL   \n\n       occur_date occur_month_year  occur_time  offense_category  \\\n0      2017-02-20       2017-02-01           0  LARCENY OFFENSES   \n1      2017-02-20       2017-02-01          30  LARCENY OFFENSES   \n2      2017-02-21       2017-02-01        2345  LARCENY OFFENSES   \n3      2017-02-21       2017-02-01        2350  LARCENY OFFENSES   \n4      2016-12-21       2016-12-01        1330  LARCENY OFFENSES   \n...           ...              ...         ...               ...   \n202547 2017-03-25       2017-03-01        2330  LARCENY OFFENSES   \n202548 2017-03-28       2017-03-01         200  LARCENY OFFENSES   \n202549 2017-03-29       2017-03-01         610  LARCENY OFFENSES   \n202550 2017-03-28       2017-03-01        1800  LARCENY OFFENSES   \n202551 2017-02-28       2017-02-01        2100  LARCENY OFFENSES   \n\n        offense_count              offense_type        lat        long  \\\n0                   1  THEFT FROM MOTOR VEHICLE  45.470545 -122.625298   \n1                   1  THEFT FROM MOTOR VEHICLE  45.467028 -122.625272   \n2                   1  THEFT FROM MOTOR VEHICLE  45.471859 -122.630327   \n3                   1  THEFT FROM MOTOR VEHICLE  45.475196 -122.630444   \n4                   1  THEFT FROM MOTOR VEHICLE  45.534551 -122.671730   \n...               ...                       ...        ...         ...   \n202547              1  THEFT FROM MOTOR VEHICLE  45.517950 -122.662774   \n202548              1  THEFT FROM MOTOR VEHICLE  45.517253 -122.655173   \n202549              1  THEFT FROM MOTOR VEHICLE  45.519425 -122.664286   \n202550              1  THEFT FROM MOTOR VEHICLE  45.514730 -122.659690   \n202551              1  THEFT FROM MOTOR VEHICLE  45.500937 -122.509281   \n\n                x         y report_date report_month_year  \n0       7656952.0  664817.0  2017-02-20        2017-02-01  \n1       7656925.0  663535.0  2017-02-20        2017-02-01  \n2       7655675.0  665330.0  2017-02-22        2017-02-01  \n3       7655677.0  666547.0  2017-02-22        2017-02-01  \n4       7645672.0  688462.0  2017-02-11        2017-02-01  \n...           ...       ...         ...               ...  \n202547  7647804.0  682350.0  2017-03-28        2017-03-01  \n202548  7649745.0  682044.0  2017-03-29        2017-03-01  \n202549  7647431.0  682898.0  2017-03-29        2017-03-01  \n202550  7648563.0  681155.0  2017-03-29        2017-03-01  \n202551  7686980.0  675133.0  2017-03-01        2017-03-01  \n\n[198246 rows x 16 columns]",
      "text/html": "<div>\n<style scoped>\n    .dataframe tbody tr th:only-of-type {\n        vertical-align: middle;\n    }\n\n    .dataframe tbody tr th {\n        vertical-align: top;\n    }\n\n    .dataframe thead th {\n        text-align: right;\n    }\n</style>\n<table border=\"1\" class=\"dataframe\">\n  <thead>\n    <tr style=\"text-align: right;\">\n      <th></th>\n      <th>address</th>\n      <th>case_num</th>\n      <th>crime_against</th>\n      <th>neighborhood</th>\n      <th>occur_date</th>\n      <th>occur_month_year</th>\n      <th>occur_time</th>\n      <th>offense_category</th>\n      <th>offense_count</th>\n      <th>offense_type</th>\n      <th>lat</th>\n      <th>long</th>\n      <th>x</th>\n      <th>y</th>\n      <th>report_date</th>\n      <th>report_month_year</th>\n    </tr>\n  </thead>\n  <tbody>\n    <tr>\n      <th>0</th>\n      <td>3600 BLOCK OF SE KNAPP ST</td>\n      <td>17-902332</td>\n      <td>PROPERTY</td>\n      <td>EASTMORELAND</td>\n      <td>2017-02-20</td>\n      <td>2017-02-01</td>\n      <td>0</td>\n      <td>LARCENY OFFENSES</td>\n      <td>1</td>\n      <td>THEFT FROM MOTOR VEHICLE</td>\n      <td>45.470545</td>\n      <td>-122.625298</td>\n      <td>7656952.0</td>\n      <td>664817.0</td>\n      <td>2017-02-20</td>\n      <td>2017-02-01</td>\n    </tr>\n    <tr>\n      <th>1</th>\n      <td>3600 BLOCK OF SE LAMBERT ST</td>\n      <td>17-902346</td>\n      <td>PROPERTY</td>\n      <td>EASTMORELAND</td>\n      <td>2017-02-20</td>\n      <td>2017-02-01</td>\n      <td>30</td>\n      <td>LARCENY OFFENSES</td>\n      <td>1</td>\n      <td>THEFT FROM MOTOR VEHICLE</td>\n      <td>45.467028</td>\n      <td>-122.625272</td>\n      <td>7656925.0</td>\n      <td>663535.0</td>\n      <td>2017-02-20</td>\n      <td>2017-02-01</td>\n    </tr>\n    <tr>\n      <th>2</th>\n      <td>7200 BLOCK OF SE 32ND AVE</td>\n      <td>17-902450</td>\n      <td>PROPERTY</td>\n      <td>EASTMORELAND</td>\n      <td>2017-02-21</td>\n      <td>2017-02-01</td>\n      <td>2345</td>\n      <td>LARCENY OFFENSES</td>\n      <td>1</td>\n      <td>THEFT FROM MOTOR VEHICLE</td>\n      <td>45.471859</td>\n      <td>-122.630327</td>\n      <td>7655675.0</td>\n      <td>665330.0</td>\n      <td>2017-02-22</td>\n      <td>2017-02-01</td>\n    </tr>\n    <tr>\n      <th>3</th>\n      <td>6500 BLOCK OF SE 32ND AVE</td>\n      <td>17-902495</td>\n      <td>PROPERTY</td>\n      <td>EASTMORELAND</td>\n      <td>2017-02-21</td>\n      <td>2017-02-01</td>\n      <td>2350</td>\n      <td>LARCENY OFFENSES</td>\n      <td>1</td>\n      <td>THEFT FROM MOTOR VEHICLE</td>\n      <td>45.475196</td>\n      <td>-122.630444</td>\n      <td>7655677.0</td>\n      <td>666547.0</td>\n      <td>2017-02-22</td>\n      <td>2017-02-01</td>\n    </tr>\n    <tr>\n      <th>4</th>\n      <td>500 BLOCK OF N DIXON ST</td>\n      <td>17-901848</td>\n      <td>PROPERTY</td>\n      <td>ELIOT</td>\n      <td>2016-12-21</td>\n      <td>2016-12-01</td>\n      <td>1330</td>\n      <td>LARCENY OFFENSES</td>\n      <td>1</td>\n      <td>THEFT FROM MOTOR VEHICLE</td>\n      <td>45.534551</td>\n      <td>-122.671730</td>\n      <td>7645672.0</td>\n      <td>688462.0</td>\n      <td>2017-02-11</td>\n      <td>2017-02-01</td>\n    </tr>\n    <tr>\n      <th>...</th>\n      <td>...</td>\n      <td>...</td>\n      <td>...</td>\n      <td>...</td>\n      <td>...</td>\n      <td>...</td>\n      <td>...</td>\n      <td>...</td>\n      <td>...</td>\n      <td>...</td>\n      <td>...</td>\n      <td>...</td>\n      <td>...</td>\n      <td>...</td>\n      <td>...</td>\n      <td>...</td>\n    </tr>\n    <tr>\n      <th>202547</th>\n      <td>SE 3RD AVE / SE ALDER ST</td>\n      <td>17-904237</td>\n      <td>PROPERTY</td>\n      <td>BUCKMAN WEST</td>\n      <td>2017-03-25</td>\n      <td>2017-03-01</td>\n      <td>2330</td>\n      <td>LARCENY OFFENSES</td>\n      <td>1</td>\n      <td>THEFT FROM MOTOR VEHICLE</td>\n      <td>45.517950</td>\n      <td>-122.662774</td>\n      <td>7647804.0</td>\n      <td>682350.0</td>\n      <td>2017-03-28</td>\n      <td>2017-03-01</td>\n    </tr>\n    <tr>\n      <th>202548</th>\n      <td>1000 BLOCK OF SE MORRISON ST</td>\n      <td>17-904282</td>\n      <td>PROPERTY</td>\n      <td>BUCKMAN WEST</td>\n      <td>2017-03-28</td>\n      <td>2017-03-01</td>\n      <td>200</td>\n      <td>LARCENY OFFENSES</td>\n      <td>1</td>\n      <td>THEFT FROM MOTOR VEHICLE</td>\n      <td>45.517253</td>\n      <td>-122.655173</td>\n      <td>7649745.0</td>\n      <td>682044.0</td>\n      <td>2017-03-29</td>\n      <td>2017-03-01</td>\n    </tr>\n    <tr>\n      <th>202549</th>\n      <td>100 BLOCK OF SE STARK ST</td>\n      <td>17-904261</td>\n      <td>PROPERTY</td>\n      <td>BUCKMAN WEST</td>\n      <td>2017-03-29</td>\n      <td>2017-03-01</td>\n      <td>610</td>\n      <td>LARCENY OFFENSES</td>\n      <td>1</td>\n      <td>THEFT FROM MOTOR VEHICLE</td>\n      <td>45.519425</td>\n      <td>-122.664286</td>\n      <td>7647431.0</td>\n      <td>682898.0</td>\n      <td>2017-03-29</td>\n      <td>2017-03-01</td>\n    </tr>\n    <tr>\n      <th>202550</th>\n      <td>1100 BLOCK OF SE 6TH AVE</td>\n      <td>17-904274</td>\n      <td>PROPERTY</td>\n      <td>BUCKMAN WEST</td>\n      <td>2017-03-28</td>\n      <td>2017-03-01</td>\n      <td>1800</td>\n      <td>LARCENY OFFENSES</td>\n      <td>1</td>\n      <td>THEFT FROM MOTOR VEHICLE</td>\n      <td>45.514730</td>\n      <td>-122.659690</td>\n      <td>7648563.0</td>\n      <td>681155.0</td>\n      <td>2017-03-29</td>\n      <td>2017-03-01</td>\n    </tr>\n    <tr>\n      <th>202551</th>\n      <td>14900 BLOCK OF SE WOODWARD ST</td>\n      <td>17-61925</td>\n      <td>PROPERTY</td>\n      <td>CENTENNIAL</td>\n      <td>2017-02-28</td>\n      <td>2017-02-01</td>\n      <td>2100</td>\n      <td>LARCENY OFFENSES</td>\n      <td>1</td>\n      <td>THEFT FROM MOTOR VEHICLE</td>\n      <td>45.500937</td>\n      <td>-122.509281</td>\n      <td>7686980.0</td>\n      <td>675133.0</td>\n      <td>2017-03-01</td>\n      <td>2017-03-01</td>\n    </tr>\n  </tbody>\n</table>\n<p>198246 rows × 16 columns</p>\n</div>"
     },
     "metadata": {},
     "execution_count": 38
    }
   ],
   "source": [
    "df"
   ]
  },
  {
   "cell_type": "code",
   "execution_count": 39,
   "metadata": {},
   "outputs": [],
   "source": [
    "df.index = df.index.astype(int)"
   ]
  },
  {
   "cell_type": "code",
   "execution_count": 40,
   "metadata": {},
   "outputs": [
    {
     "output_type": "error",
     "ename": "ModuleNotFoundError",
     "evalue": "No module named 'pymysql'",
     "traceback": [
      "\u001b[0;31m---------------------------------------------------------------------------\u001b[0m",
      "\u001b[0;31mModuleNotFoundError\u001b[0m                       Traceback (most recent call last)",
      "\u001b[0;32m<ipython-input-40-84a88bfbf6a4>\u001b[0m in \u001b[0;36m<module>\u001b[0;34m\u001b[0m\n\u001b[1;32m      1\u001b[0m \u001b[0;32mfrom\u001b[0m \u001b[0msqlalchemy\u001b[0m \u001b[0;32mimport\u001b[0m \u001b[0mcreate_engine\u001b[0m\u001b[0;34m\u001b[0m\u001b[0;34m\u001b[0m\u001b[0m\n\u001b[1;32m      2\u001b[0m \u001b[0;34m\u001b[0m\u001b[0m\n\u001b[0;32m----> 3\u001b[0;31m \u001b[0;32mimport\u001b[0m \u001b[0mpymysql\u001b[0m\u001b[0;34m\u001b[0m\u001b[0;34m\u001b[0m\u001b[0m\n\u001b[0m",
      "\u001b[0;31mModuleNotFoundError\u001b[0m: No module named 'pymysql'"
     ]
    }
   ],
   "source": [
    "from sqlalchemy import create_engine\n",
    "\n",
    "import pymysql"
   ]
  },
  {
   "cell_type": "code",
   "execution_count": 41,
   "metadata": {},
   "outputs": [
    {
     "output_type": "error",
     "ename": "ModuleNotFoundError",
     "evalue": "No module named 'pymysql'",
     "traceback": [
      "\u001b[0;31m---------------------------------------------------------------------------\u001b[0m",
      "\u001b[0;31mModuleNotFoundError\u001b[0m                       Traceback (most recent call last)",
      "\u001b[0;32m<ipython-input-41-bea6a3748910>\u001b[0m in \u001b[0;36m<module>\u001b[0;34m\u001b[0m\n\u001b[1;32m      1\u001b[0m \u001b[0mtableName\u001b[0m \u001b[0;34m=\u001b[0m \u001b[0;34m'milestone2'\u001b[0m\u001b[0;34m\u001b[0m\u001b[0;34m\u001b[0m\u001b[0m\n\u001b[0;32m----> 2\u001b[0;31m \u001b[0msqlEngine\u001b[0m \u001b[0;34m=\u001b[0m \u001b[0mcreate_engine\u001b[0m\u001b[0;34m(\u001b[0m\u001b[0;34m'mysql+pymysql://root:@127.0.0.1/crime'\u001b[0m\u001b[0;34m,\u001b[0m \u001b[0mpool_recycle\u001b[0m\u001b[0;34m=\u001b[0m\u001b[0;36m3600\u001b[0m\u001b[0;34m)\u001b[0m\u001b[0;34m\u001b[0m\u001b[0;34m\u001b[0m\u001b[0m\n\u001b[0m\u001b[1;32m      3\u001b[0m \u001b[0mdbConnection\u001b[0m \u001b[0;34m=\u001b[0m \u001b[0msqlEngine\u001b[0m\u001b[0;34m.\u001b[0m\u001b[0mconnect\u001b[0m\u001b[0;34m(\u001b[0m\u001b[0;34m)\u001b[0m\u001b[0;34m\u001b[0m\u001b[0;34m\u001b[0m\u001b[0m\n",
      "\u001b[0;32m~/anaconda3/lib/python3.7/site-packages/sqlalchemy/engine/__init__.py\u001b[0m in \u001b[0;36mcreate_engine\u001b[0;34m(*args, **kwargs)\u001b[0m\n\u001b[1;32m    486\u001b[0m     \u001b[0mstrategy\u001b[0m \u001b[0;34m=\u001b[0m \u001b[0mkwargs\u001b[0m\u001b[0;34m.\u001b[0m\u001b[0mpop\u001b[0m\u001b[0;34m(\u001b[0m\u001b[0;34m\"strategy\"\u001b[0m\u001b[0;34m,\u001b[0m \u001b[0mdefault_strategy\u001b[0m\u001b[0;34m)\u001b[0m\u001b[0;34m\u001b[0m\u001b[0;34m\u001b[0m\u001b[0m\n\u001b[1;32m    487\u001b[0m     \u001b[0mstrategy\u001b[0m \u001b[0;34m=\u001b[0m \u001b[0mstrategies\u001b[0m\u001b[0;34m.\u001b[0m\u001b[0mstrategies\u001b[0m\u001b[0;34m[\u001b[0m\u001b[0mstrategy\u001b[0m\u001b[0;34m]\u001b[0m\u001b[0;34m\u001b[0m\u001b[0;34m\u001b[0m\u001b[0m\n\u001b[0;32m--> 488\u001b[0;31m     \u001b[0;32mreturn\u001b[0m \u001b[0mstrategy\u001b[0m\u001b[0;34m.\u001b[0m\u001b[0mcreate\u001b[0m\u001b[0;34m(\u001b[0m\u001b[0;34m*\u001b[0m\u001b[0margs\u001b[0m\u001b[0;34m,\u001b[0m \u001b[0;34m**\u001b[0m\u001b[0mkwargs\u001b[0m\u001b[0;34m)\u001b[0m\u001b[0;34m\u001b[0m\u001b[0;34m\u001b[0m\u001b[0m\n\u001b[0m\u001b[1;32m    489\u001b[0m \u001b[0;34m\u001b[0m\u001b[0m\n\u001b[1;32m    490\u001b[0m \u001b[0;34m\u001b[0m\u001b[0m\n",
      "\u001b[0;32m~/anaconda3/lib/python3.7/site-packages/sqlalchemy/engine/strategies.py\u001b[0m in \u001b[0;36mcreate\u001b[0;34m(self, name_or_url, **kwargs)\u001b[0m\n\u001b[1;32m     85\u001b[0m                 \u001b[0;32mif\u001b[0m \u001b[0mk\u001b[0m \u001b[0;32min\u001b[0m \u001b[0mkwargs\u001b[0m\u001b[0;34m:\u001b[0m\u001b[0;34m\u001b[0m\u001b[0;34m\u001b[0m\u001b[0m\n\u001b[1;32m     86\u001b[0m                     \u001b[0mdbapi_args\u001b[0m\u001b[0;34m[\u001b[0m\u001b[0mk\u001b[0m\u001b[0;34m]\u001b[0m \u001b[0;34m=\u001b[0m \u001b[0mpop_kwarg\u001b[0m\u001b[0;34m(\u001b[0m\u001b[0mk\u001b[0m\u001b[0;34m)\u001b[0m\u001b[0;34m\u001b[0m\u001b[0;34m\u001b[0m\u001b[0m\n\u001b[0;32m---> 87\u001b[0;31m             \u001b[0mdbapi\u001b[0m \u001b[0;34m=\u001b[0m \u001b[0mdialect_cls\u001b[0m\u001b[0;34m.\u001b[0m\u001b[0mdbapi\u001b[0m\u001b[0;34m(\u001b[0m\u001b[0;34m**\u001b[0m\u001b[0mdbapi_args\u001b[0m\u001b[0;34m)\u001b[0m\u001b[0;34m\u001b[0m\u001b[0;34m\u001b[0m\u001b[0m\n\u001b[0m\u001b[1;32m     88\u001b[0m \u001b[0;34m\u001b[0m\u001b[0m\n\u001b[1;32m     89\u001b[0m         \u001b[0mdialect_args\u001b[0m\u001b[0;34m[\u001b[0m\u001b[0;34m\"dbapi\"\u001b[0m\u001b[0;34m]\u001b[0m \u001b[0;34m=\u001b[0m \u001b[0mdbapi\u001b[0m\u001b[0;34m\u001b[0m\u001b[0;34m\u001b[0m\u001b[0m\n",
      "\u001b[0;32m~/anaconda3/lib/python3.7/site-packages/sqlalchemy/dialects/mysql/pymysql.py\u001b[0m in \u001b[0;36mdbapi\u001b[0;34m(cls)\u001b[0m\n\u001b[1;32m     60\u001b[0m     \u001b[0;34m@\u001b[0m\u001b[0mclassmethod\u001b[0m\u001b[0;34m\u001b[0m\u001b[0;34m\u001b[0m\u001b[0m\n\u001b[1;32m     61\u001b[0m     \u001b[0;32mdef\u001b[0m \u001b[0mdbapi\u001b[0m\u001b[0;34m(\u001b[0m\u001b[0mcls\u001b[0m\u001b[0;34m)\u001b[0m\u001b[0;34m:\u001b[0m\u001b[0;34m\u001b[0m\u001b[0;34m\u001b[0m\u001b[0m\n\u001b[0;32m---> 62\u001b[0;31m         \u001b[0;32mreturn\u001b[0m \u001b[0m__import__\u001b[0m\u001b[0;34m(\u001b[0m\u001b[0;34m\"pymysql\"\u001b[0m\u001b[0;34m)\u001b[0m\u001b[0;34m\u001b[0m\u001b[0;34m\u001b[0m\u001b[0m\n\u001b[0m\u001b[1;32m     63\u001b[0m \u001b[0;34m\u001b[0m\u001b[0m\n\u001b[1;32m     64\u001b[0m     \u001b[0;32mdef\u001b[0m \u001b[0mis_disconnect\u001b[0m\u001b[0;34m(\u001b[0m\u001b[0mself\u001b[0m\u001b[0;34m,\u001b[0m \u001b[0me\u001b[0m\u001b[0;34m,\u001b[0m \u001b[0mconnection\u001b[0m\u001b[0;34m,\u001b[0m \u001b[0mcursor\u001b[0m\u001b[0;34m)\u001b[0m\u001b[0;34m:\u001b[0m\u001b[0;34m\u001b[0m\u001b[0;34m\u001b[0m\u001b[0m\n",
      "\u001b[0;31mModuleNotFoundError\u001b[0m: No module named 'pymysql'"
     ]
    }
   ],
   "source": [
    "tableName = 'milestone2'\n",
    "sqlEngine = create_engine('mysql+pymysql://root:@127.0.0.1/crime', pool_recycle=3600)\n",
    "dbConnection = sqlEngine.connect()"
   ]
  },
  {
   "cell_type": "code",
   "execution_count": 42,
   "metadata": {},
   "outputs": [
    {
     "output_type": "stream",
     "name": "stdout",
     "text": "name 'dbConnection' is not defined\n"
    },
    {
     "output_type": "error",
     "ename": "NameError",
     "evalue": "name 'dbConnection' is not defined",
     "traceback": [
      "\u001b[0;31m---------------------------------------------------------------------------\u001b[0m",
      "\u001b[0;31mNameError\u001b[0m                                 Traceback (most recent call last)",
      "\u001b[0;32m<ipython-input-42-859e2665ccaf>\u001b[0m in \u001b[0;36m<module>\u001b[0;34m\u001b[0m\n\u001b[1;32m      8\u001b[0m     \u001b[0mprint\u001b[0m\u001b[0;34m(\u001b[0m\u001b[0;34m\"Table %s created successfully.\"\u001b[0m\u001b[0;34m%\u001b[0m\u001b[0mtableName\u001b[0m\u001b[0;34m)\u001b[0m\u001b[0;34m;\u001b[0m\u001b[0;34m\u001b[0m\u001b[0;34m\u001b[0m\u001b[0m\n\u001b[1;32m      9\u001b[0m \u001b[0;32mfinally\u001b[0m\u001b[0;34m:\u001b[0m\u001b[0;34m\u001b[0m\u001b[0;34m\u001b[0m\u001b[0m\n\u001b[0;32m---> 10\u001b[0;31m     \u001b[0mdbConnection\u001b[0m\u001b[0;34m.\u001b[0m\u001b[0mclose\u001b[0m\u001b[0;34m(\u001b[0m\u001b[0;34m)\u001b[0m\u001b[0;34m\u001b[0m\u001b[0;34m\u001b[0m\u001b[0m\n\u001b[0m",
      "\u001b[0;31mNameError\u001b[0m: name 'dbConnection' is not defined"
     ]
    }
   ],
   "source": [
    "try:\n",
    "    frame = df.to_sql(tableName, dbConnection, if_exists='replace',index_label='id');\n",
    "except ValueError as vx:\n",
    "    print(vx)\n",
    "except Exception as ex:   \n",
    "    print(ex)\n",
    "else:\n",
    "    print(\"Table %s created successfully.\"%tableName);   \n",
    "finally:\n",
    "    dbConnection.close()"
   ]
  }
 ],
 "metadata": {
  "language_info": {
   "name": "python",
   "codemirror_mode": {
    "name": "ipython",
    "version": 3
   },
   "version": "3.7.7-final"
  },
  "orig_nbformat": 2,
  "file_extension": ".py",
  "mimetype": "text/x-python",
  "name": "python",
  "npconvert_exporter": "python",
  "pygments_lexer": "ipython3",
  "version": 3,
  "kernelspec": {
   "name": "python3",
   "display_name": "Python 3"
  }
 },
 "nbformat": 4,
 "nbformat_minor": 2
}