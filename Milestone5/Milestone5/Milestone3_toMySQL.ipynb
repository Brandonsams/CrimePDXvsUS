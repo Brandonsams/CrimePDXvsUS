{
 "cells": [
  {
   "cell_type": "markdown",
   "metadata": {},
   "source": [
    "# Milestone 3\n",
    "\n",
    "## Crime Statistics\n",
    "\n",
    "Brandon Sams\n",
    "\n",
    "03May2020\n",
    "\n",
    "Scraped from https://www.ucrdatatool.gov/Search/Crime/State/RunCrimeStatebyState.cfm"
   ]
  },
  {
   "cell_type": "code",
   "execution_count": 175,
   "metadata": {},
   "outputs": [],
   "source": [
    "import bs4 as bs\n",
    "import pandas as pd\n",
    "import codecs\n",
    "import numpy as np"
   ]
  },
  {
   "cell_type": "code",
   "execution_count": 176,
   "metadata": {},
   "outputs": [],
   "source": [
    "pd.set_option('display.max_columns', None)"
   ]
  },
  {
   "cell_type": "code",
   "execution_count": 177,
   "metadata": {},
   "outputs": [],
   "source": [
    "f_hand = 'Uniform Crime Reporting Statistics.html'\n",
    "f=codecs.open(f_hand, 'r')\n",
    "soup = bs.BeautifulSoup(f)"
   ]
  },
  {
   "cell_type": "code",
   "execution_count": 178,
   "metadata": {},
   "outputs": [],
   "source": [
    "table = soup.find_all(\"table\")[4]"
   ]
  },
  {
   "cell_type": "code",
   "execution_count": 179,
   "metadata": {},
   "outputs": [],
   "source": [
    "df = pd.DataFrame(columns=range(0,22),index = range(60))"
   ]
  },
  {
   "cell_type": "code",
   "execution_count": 180,
   "metadata": {
    "tags": [
     "outputPrepend"
    ]
   },
   "outputs": [],
   "source": [
    "row_marker = 0\n",
    "for row in table.find_all('tr'):\n",
    "    column_marker = 0\n",
    "    columns = row.find_all('td')\n",
    "    for column in columns:\n",
    "        df.iat[row_marker,column_marker] = column.get_text()\n",
    "        column_marker += 1\n",
    "    row_marker +=1"
   ]
  },
  {
   "cell_type": "code",
   "execution_count": 181,
   "metadata": {},
   "outputs": [],
   "source": [
    "# Rename Columns\n",
    "cols = [\n",
    "    'Year',\n",
    "    'Population',\n",
    "    'Violent Crime Total',\n",
    "    'Murder and Nonnegligent Manslaughter',\n",
    "    'Legacy Rape',\n",
    "    'Revised Rape',\n",
    "    'Robbery',\n",
    "    'Aggravated Assault',\n",
    "    'Property Crime Total',\n",
    "    'Burglary',\n",
    "    'Larceny-Theft',\n",
    "    'Motor Vehicle Theft',\n",
    "    'Violent Crime Rate',\n",
    "    'Murder and Nonnegligent Manslaughter Rate',\n",
    "    'Legacy Rape Rate',\n",
    "    'Revised Rape Rate',\n",
    "    'Robbery Rate',\n",
    "    'Aggravated Assault Rate',\n",
    "    'Property Crime Rate',\n",
    "    'Burglary Rate',\n",
    "    'Larceny-Theft Rate',\n",
    "    'Motor Vehicle Theft Rate'\n",
    "]"
   ]
  },
  {
   "cell_type": "code",
   "execution_count": 182,
   "metadata": {},
   "outputs": [],
   "source": [
    "df.columns = cols"
   ]
  },
  {
   "cell_type": "code",
   "execution_count": 183,
   "metadata": {},
   "outputs": [],
   "source": [
    "# Remove junk rows\n",
    "df.drop([0,1,2,3,59],inplace = True)"
   ]
  },
  {
   "cell_type": "code",
   "execution_count": 184,
   "metadata": {},
   "outputs": [],
   "source": [
    "# Index by year\n",
    "df.set_index('Year',inplace = True)"
   ]
  },
  {
   "cell_type": "code",
   "execution_count": 185,
   "metadata": {},
   "outputs": [],
   "source": [
    "# Fill Revised Rape columns with NaN\n",
    "df = df.replace('',np.NaN)"
   ]
  },
  {
   "cell_type": "code",
   "execution_count": 186,
   "metadata": {},
   "outputs": [],
   "source": [
    "# Convert all columns to numeric type\n",
    "for col in df:\n",
    "    df[col] = df[col].str.replace(',','').replace(' ','')"
   ]
  },
  {
   "cell_type": "code",
   "execution_count": 187,
   "metadata": {},
   "outputs": [],
   "source": [
    "df = df.apply(pd.to_numeric)"
   ]
  },
  {
   "cell_type": "code",
   "execution_count": 188,
   "metadata": {},
   "outputs": [
    {
     "output_type": "execute_result",
     "data": {
      "text/plain": "Population                                     int64\nViolent Crime Total                            int64\nMurder and Nonnegligent Manslaughter           int64\nLegacy Rape                                    int64\nRevised Rape                                 float64\nRobbery                                        int64\nAggravated Assault                             int64\nProperty Crime Total                           int64\nBurglary                                       int64\nLarceny-Theft                                  int64\nMotor Vehicle Theft                            int64\nViolent Crime Rate                           float64\nMurder and Nonnegligent Manslaughter Rate    float64\nLegacy Rape Rate                             float64\nRevised Rape Rate                            float64\nRobbery Rate                                 float64\nAggravated Assault Rate                      float64\nProperty Crime Rate                          float64\nBurglary Rate                                float64\nLarceny-Theft Rate                           float64\nMotor Vehicle Theft Rate                     float64\ndtype: object"
     },
     "metadata": {},
     "execution_count": 188
    }
   ],
   "source": [
    "df.dtypes"
   ]
  },
  {
   "cell_type": "code",
   "execution_count": 189,
   "metadata": {},
   "outputs": [
    {
     "output_type": "execute_result",
     "data": {
      "text/plain": "         1113179   \n1995        97470           NaN   580509             1099207   \n1996        96252           NaN   535594             1037049   \n1997        96153           NaN   498534             1023201   \n1998        93144           NaN   447186              976583   \n1999        89411           NaN   409371              911740   \n2000        90178           NaN   408016              911706   \n2001        90863           NaN   423557              909023   \n2002        95235           NaN   420806              891407   \n2003        93883           NaN   414235              859030   \n2004        95089           NaN   401470              847381   \n2005        94347           NaN   417438              862220   \n2006        94472           NaN   449246              874096   \n2007        92160           NaN   447324              866358   \n2008        90750           NaN   443563              843683   \n2009        89241           NaN   408742              812514   \n2010        85593           NaN   369089              781844   \n2011        84175           NaN   354772              752423   \n2012        85141           NaN   355051              762009   \n2013        82109      113695.0   345095              726575   \n2014        84041      116645.0   325802              741291   \n\n      Property Crime Total  Burglary  Larceny-Theft  Motor Vehicle Theft  \\\nYear                                                                       \n1960               3095700    912100        1855400               328200   \n1961               3198600    949600        1913000               336000   \n1962               3450700    994300        2089600               366800   \n1963               3792500   1086400        2297800               408300   \n1964               4200400   1213200        2514400               472800   \n1965               4352000   1282500        2572600               496900   \n1966               4793300   1410100        2822000               561200   \n1967               5403500   1632100        3111600               659800   \n1968               6125200   1858900        3482700               783600   \n1969               6749000   1981900        3888600               878500   \n1970               7359200   2205000        4225800               928400   \n1971               7771700   2399300        4424200               948200   \n1972               7413900   2375500        4151200               887200   \n1973               7842200   2565500        4347900               928800   \n1974               9278700   3039200        5262500               977100   \n1975              10252700   3265300        5977700              1009600   \n1976              10345500   3108700        6270800               966000   \n1977               9955000   3071500        5905700               977700   \n1978              10123400   3128300        5991000              1004100   \n1979              11041500   3327700        6601000              1112800   \n1980              12063700   3795200        7136900              1131700   \n1981              12061900   3779700        7194400              1087800   \n1982              11652000   3447100        7142500              1062400   \n1983              10850543   3129851        6712759              1007933   \n1984              10608473   2984434        6591874              1032165   \n1985              11102590   3073348        6926380              1102862   \n1986              11722700   3241410        7257153              1224137   \n1987              12024709   3236184        7499851              1288674   \n1988              12356865   3218077        7705872              1432916   \n1989              12605412   3168170        7872442              1564800   \n1990              12655486   3073909        7945670              1635907   \n1991              12961116   3157150        8142228              1661738   \n1992              12505917   2979884        7915199              1610834   \n1993              12218777   2834808        7820909              1563060   \n1994              12131873   2712774        7879812              1539287   \n1995              12063935   2593784        7997710              1472441   \n1996              11805323   2506400        7904685              1394238   \n1997              11558475   2460526        7743760              1354189   \n1998              10951827   2332735        7376311              1242781   \n1999              10208334   2100739        6955520              1152075   \n2000              10182584   2050992        6971590              1160002   \n2001              10437189   2116531        7092267              1228391   \n2002              10455277   2151252        7057379              1246646   \n2003              10442862   2154834        7026802              1261226   \n2004              10319386   2144446        6937089              1237851   \n2005              10174754   2155448        6783447              1235859   \n2006              10019601   2194993        6626363              1198245   \n2007               9882212   2190198        6591542              1100472   \n2008               9774152   2228887        6586206               959059   \n2009               9337060   2203313        6338095               795652   \n2010               9112625   2168459        6204601               739565   \n2011               9052743   2185140        6151095               716508   \n2012               9001992   2109932        6168874               723186   \n2013               8650761   1931835        6018632               700294   \n2014               8277829   1729806        5858496               689527   \n\n      Violent Crime Rate  Murder and Nonnegligent Manslaughter Rate  \\\nYear                                                                  \n1960               160.9                                        5.1   \n1961               158.1                                        4.8   \n1962               162.3                                        4.6   \n1963               168.2                                        4.6   \n1964               190.6                                        4.9   \n1965               200.2                                        5.1   \n1966               220.0                                        5.6   \n1967               253.2                                        6.2   \n1968               298.4                                        6.9   \n1969               328.7                                        7.3   \n1970               363.5                                        7.9   \n1971               396.0                                        8.6   \n1972               401.0                                        9.0   \n1973               417.4                                        9.4   \n1974               461.1                                        9.8   \n1975               487.8                                        9.6   \n1976               467.8                                        8.7   \n1977               475.9                                        8.8   \n1978               497.8                                        9.0   \n1979               548.9                                        9.8   \n1980               596.6                                       10.2   \n1981               593.5                                        9.8   \n1982               570.8                                        9.1   \n1983               538.1                                        8.3   \n1984               539.9                                        7.9   \n1985               558.1                                        8.0   \n1986               620.1                                        8.6   \n1987               612.5                                        8.3   \n1988               640.6                                        8.5   \n1989               666.9                                        8.7   \n1990               729.6                                        9.4   \n1991               758.2                                        9.8   \n1992               757.7                                        9.3   \n1993               747.1                                        9.5   \n1994               713.6                                        9.0   \n1995               684.5                                        8.2   \n1996               636.6                                        7.4   \n1997               611.0                                        6.8   \n1998               567.6                                        6.3   \n1999               523.0                                        5.7   \n2000               506.5                                        5.5   \n2001               504.5                                        5.6   \n2002               494.4                                        5.6   \n2003               475.8                                        5.7   \n2004               463.2                                        5.5   \n2005               469.0                                        5.6   \n2006               479.3                                        5.8   \n2007               471.8                                        5.7   \n2008               458.6                                        5.4   \n2009               431.9                                        5.0   \n2010               404.5                                        4.8   \n2011               387.1                                        4.7   \n2012               387.8                                        4.7   \n2013               379.1                                        4.5   \n2014               375.7                                        4.5   \n\n      Legacy Rape Rate  Revised Rape Rate  Robbery Rate  \\\nYear                                                      \n1960               9.6                NaN          60.1   \n1961               9.4                NaN          58.3   \n1962               9.4                NaN          59.7   \n1963               9.4                NaN          61.8   \n1964              11.2                NaN          68.2   \n1965              12.1                NaN          71.7   \n1966              13.2                NaN          80.8   \n1967              14.0                NaN         102.8   \n1968              15.9                NaN         131.8   \n1969              18.5                NaN         148.4   \n1970              18.7                NaN         172.1   \n1971              20.5                NaN         188.0   \n1972              22.5                NaN         180.7   \n1973              24.5                NaN         183.1   \n1974              26.2                NaN         209.3   \n1975              26.3                NaN         220.8   \n1976              26.6                NaN         199.3   \n1977              29.4                NaN         190.7   \n1978              31.0                NaN         195.8   \n1979              34.7                NaN         218.4   \n1980              36.8                NaN         251.1   \n1981              36.0                NaN         258.4   \n1982              34.0                NaN         238.8   \n1983              33.8                NaN         216.7   \n1984              35.7                NaN         205.7   \n1985              36.8                NaN         209.3   \n1986              38.1                NaN         226.0   \n1987              37.6                NaN         213.7   \n1988              37.8                NaN         222.1   \n1989              38.3                NaN         234.3   \n1990              41.1                NaN         256.3   \n1991              42.3                NaN         272.7   \n1992              42.8                NaN         263.7   \n1993              41.1                NaN         256.0   \n1994              39.3                NaN         237.8   \n1995              37.1                NaN         220.9   \n1996              36.3                NaN         201.9   \n1997              35.9                NaN         186.2   \n1998              34.5                NaN         165.5   \n1999              32.8                NaN         150.1   \n2000              32.0                NaN         145.0   \n2001              31.8                NaN         148.5   \n2002              33.1                NaN         146.1   \n2003              32.3                NaN         142.5   \n2004              32.4                NaN         136.7   \n2005              31.8                NaN         140.8   \n2006              31.6                NaN         150.0   \n2007              30.6                NaN         148.3   \n2008              29.8                NaN         145.9   \n2009              29.1                NaN         133.1   \n2010              27.7                NaN         119.3   \n2011              27.0                NaN         113.9   \n2012              27.1                NaN         113.1   \n2013              25.9               35.9         109.0   \n2014              26.4               36.6         102.2   \n\n      Aggravated Assault Rate  Property Crime Rate  Burglary Rate  \\\nYear                                                                \n1960                     86.1               1726.3          508.6   \n1961                     85.7               1747.9          518.9   \n1962                     88.6               1857.5          535.2   \n1963                     92.4               2012.1          576.4   \n1964                    106.2               2197.5          634.7   \n1965                    111.3               2248.8          662.7   \n1966                    120.3               2450.9          721.0   \n1967                    130.2               2736.5          826.6   \n1968                    143.8               3071.8          932.3   \n1969                    154.5               3351.3          984.1   \n1970                    164.8               3621.0         1084.9   \n1971                    178.8               3768.8         1163.5   \n1972                    188.8               3560.4         1140.8   \n1973                    200.5               3737.0         1222.5   \n1974                    215.8               4389.3         1437.7   \n1975                    231.1               4810.7         1532.1   \n1976                    233.2               4819.5         1448.2   \n1977                    247.0               4601.7         1419.8   \n1978                    262.1               4642.5         1434.6   \n1979                    286.0               5016.6         1511.9   \n1980                    298.5               5353.3         1684.1   \n1981                    289.3               5256.5         1647.2   \n1982                    289.0               5029.7         1488.0   \n1983                    279.4               4641.1         1338.7   \n1984                    290.6               4498.5         1265.5   \n1985                    304.0               4666.4         1291.7   \n1986                    347.4               4881.8         1349.8   \n1987                    352.9               4963.0         1335.7   \n1988                    372.2               5054.0         1316.2   \n1989                    385.6               5107.1         1283.6   \n1990                    422.9               5073.1         1232.2   \n1991                    433.4               5140.2         1252.1   \n1992                    441.9               4903.7         1168.4   \n1993                    440.5               4740.0         1099.7   \n1994                    427.6               4660.2         1042.1   \n1995                    418.3               4590.5          987.0   \n1996                    391.0               4451.0          945.0   \n1997                    382.1               4316.3          918.8   \n1998                    361.4               4052.5          863.2   \n1999                    334.3               3743.6          770.4   \n2000                    324.0               3618.3          728.8   \n2001                    318.6               3658.1          741.8   \n2002                    309.5               3630.6          747.0   \n2003                    295.4               3591.2          741.0   \n2004                    288.6               3514.1          730.3   \n2005                    290.8               3431.5          726.9   \n2006                    292.0               3346.6          733.1   \n2007                    287.2               3276.4          726.1   \n2008                    277.5               3214.6          733.0   \n2009                    264.7               3041.3          717.7   \n2010                    252.8               2945.9          701.0   \n2011                    241.5               2905.4          701.3   \n2012                    242.8               2868.0          672.2   \n2013                    229.6               2733.3          610.4   \n2014                    232.5               2596.1          542.5   \n\n      Larceny-Theft Rate  Motor Vehicle Theft Rate  \nYear                                                \n1960              1034.7                     183.0  \n1961              1045.4                     183.6  \n1962              1124.8                     197.4  \n1963              1219.1                     216.6  \n1964              1315.5                     247.4  \n1965              1329.3                     256.8  \n1966              1442.9                     286.9  \n1967              1575.8                     334.1  \n1968              1746.6                     393.0  \n1969              1930.9                     436.2  \n1970              2079.3                     456.8  \n1971              2145.5                     459.8  \n1972              1993.6                     426.1  \n1973              2071.9                     442.6  \n1974              2489.5                     462.2  \n1975              2804.8                     473.7  \n1976              2921.3                     450.0  \n1977              2729.9                     451.9  \n1978              2747.4                     460.5  \n1979              2999.1                     505.6  \n1980              3167.0                     502.2  \n1981              3135.3                     474.1  \n1982              3083.1                     458.6  \n1983              2871.3                     431.1  \n1984              2795.2                     437.7  \n1985              2911.2                     463.5  \n1986              3022.1                     509.8  \n1987              3095.4                     531.9  \n1988              3151.7                     586.1  \n1989              3189.6                     634.0  \n1990              3185.1                     655.8  \n1991              3229.1                     659.0  \n1992              3103.6                     631.6  \n1993              3033.9                     606.3  \n1994              3026.9                     591.3  \n1995              3043.2                     560.3  \n1996              2980.3                     525.7  \n1997              2891.8                     505.7  \n1998              2729.5                     459.9  \n1999              2550.7                     422.5  \n2000              2477.3                     412.2  \n2001              2485.7                     430.5  \n2002              2450.7                     432.9  \n2003              2416.5                     433.7  \n2004              2362.3                     421.5  \n2005              2287.8                     416.8  \n2006              2213.2                     400.2  \n2007              2185.4                     364.9  \n2008              2166.1                     315.4  \n2009              2064.5                     259.2  \n2010              2005.8                     239.1  \n2011              1974.1                     230.0  \n2012              1965.4                     230.4  \n2013              1901.6                     221.3  \n2014              1837.3                     216.2  ",
      "text/html": "<div>\n<style scoped>\n    .dataframe tbody tr th:only-of-type {\n        vertical-align: middle;\n    }\n\n    .dataframe tbody tr th {\n        vertical-align: top;\n    }\n\n    .dataframe thead th {\n        text-align: right;\n    }\n</style>\n<table border=\"1\" class=\"dataframe\">\n  <thead>\n    <tr style=\"text-align: right;\">\n      <th></th>\n      <th>Population</th>\n      <th>Violent Crime Total</th>\n      <th>Murder and Nonnegligent Manslaughter</th>\n      <th>Legacy Rape</th>\n      <th>Revised Rape</th>\n      <th>Robbery</th>\n      <th>Aggravated Assault</th>\n      <th>Property Crime Total</th>\n      <th>Burglary</th>\n      <th>Larceny-Theft</th>\n      <th>Motor Vehicle Theft</th>\n      <th>Violent Crime Rate</th>\n      <th>Murder and Nonnegligent Manslaughter Rate</th>\n      <th>Legacy Rape Rate</th>\n      <th>Revised Rape Rate</th>\n      <th>Robbery Rate</th>\n      <th>Aggravated Assault Rate</th>\n      <th>Property Crime Rate</th>\n      <th>Burglary Rate</th>\n      <th>Larceny-Theft Rate</th>\n      <th>Motor Vehicle Theft Rate</th>\n    </tr>\n    <tr>\n      <th>Year</th>\n      <th></th>\n      <th></th>\n      <th></th>\n      <th></th>\n      <th></th>\n      <th></th>\n      <th></th>\n      <th></th>\n      <th></th>\n      <th></th>\n      <th></th>\n      <th></th>\n      <th></th>\n      <th></th>\n      <th></th>\n      <th></th>\n      <th></th>\n      <th></th>\n      <th></th>\n      <th></th>\n      <th></th>\n    </tr>\n  </thead>\n  <tbody>\n    <tr>\n      <th>1960</th>\n      <td>179323175</td>\n      <td>288460</td>\n      <td>9110</td>\n      <td>17190</td>\n      <td>NaN</td>\n      <td>107840</td>\n      <td>154320</td>\n      <td>3095700</td>\n      <td>912100</td>\n      <td>1855400</td>\n      <td>328200</td>\n      <td>160.9</td>\n      <td>5.1</td>\n      <td>9.6</td>\n      <td>NaN</td>\n      <td>60.1</td>\n      <td>86.1</td>\n      <td>1726.3</td>\n      <td>508.6</td>\n      <td>1034.7</td>\n      <td>183.0</td>\n    </tr>\n    <tr>\n      <th>1961</th>\n      <td>182992000</td>\n      <td>289390</td>\n      <td>8740</td>\n      <td>17220</td>\n      <td>NaN</td>\n      <td>106670</td>\n      <td>156760</td>\n      <td>3198600</td>\n      <td>949600</td>\n      <td>1913000</td>\n      <td>336000</td>\n      <td>158.1</td>\n      <td>4.8</td>\n      <td>9.4</td>\n      <td>NaN</td>\n      <td>58.3</td>\n      <td>85.7</td>\n      <td>1747.9</td>\n      <td>518.9</td>\n      <td>1045.4</td>\n      <td>183.6</td>\n    </tr>\n    <tr>\n      <th>1962</th>\n      <td>185771000</td>\n      <td>301510</td>\n      <td>8530</td>\n      <td>17550</td>\n      <td>NaN</td>\n      <td>110860</td>\n      <td>164570</td>\n      <td>3450700</td>\n      <td>994300</td>\n      <td>2089600</td>\n      <td>366800</td>\n      <td>162.3</td>\n      <td>4.6</td>\n      <td>9.4</td>\n      <td>NaN</td>\n      <td>59.7</td>\n      <td>88.6</td>\n      <td>1857.5</td>\n      <td>535.2</td>\n      <td>1124.8</td>\n      <td>197.4</td>\n    </tr>\n    <tr>\n      <th>1963</th>\n      <td>188483000</td>\n      <td>316970</td>\n      <td>8640</td>\n      <td>17650</td>\n      <td>NaN</td>\n      <td>116470</td>\n      <td>174210</td>\n      <td>3792500</td>\n      <td>1086400</td>\n      <td>2297800</td>\n      <td>408300</td>\n      <td>168.2</td>\n      <td>4.6</td>\n      <td>9.4</td>\n      <td>NaN</td>\n      <td>61.8</td>\n      <td>92.4</td>\n      <td>2012.1</td>\n      <td>576.4</td>\n      <td>1219.1</td>\n      <td>216.6</td>\n    </tr>\n    <tr>\n      <th>1964</th>\n      <td>191141000</td>\n      <td>364220</td>\n      <td>9360</td>\n      <td>21420</td>\n      <td>NaN</td>\n      <td>130390</td>\n      <td>203050</td>\n      <td>4200400</td>\n      <td>1213200</td>\n      <td>2514400</td>\n      <td>472800</td>\n      <td>190.6</td>\n      <td>4.9</td>\n      <td>11.2</td>\n      <td>NaN</td>\n      <td>68.2</td>\n      <td>106.2</td>\n      <td>2197.5</td>\n      <td>634.7</td>\n      <td>1315.5</td>\n      <td>247.4</td>\n    </tr>\n    <tr>\n      <th>1965</th>\n      <td>193526000</td>\n      <td>387390</td>\n      <td>9960</td>\n      <td>23410</td>\n      <td>NaN</td>\n      <td>138690</td>\n      <td>215330</td>\n      <td>4352000</td>\n      <td>1282500</td>\n      <td>2572600</td>\n      <td>496900</td>\n      <td>200.2</td>\n      <td>5.1</td>\n      <td>12.1</td>\n      <td>NaN</td>\n      <td>71.7</td>\n      <td>111.3</td>\n      <td>2248.8</td>\n      <td>662.7</td>\n      <td>1329.3</td>\n      <td>256.8</td>\n    </tr>\n    <tr>\n      <th>1966</th>\n      <td>195576000</td>\n      <td>430180</td>\n      <td>11040</td>\n      <td>25820</td>\n      <td>NaN</td>\n      <td>157990</td>\n      <td>235330</td>\n      <td>4793300</td>\n      <td>1410100</td>\n      <td>2822000</td>\n      <td>561200</td>\n      <td>220.0</td>\n      <td>5.6</td>\n      <td>13.2</td>\n      <td>NaN</td>\n      <td>80.8</td>\n      <td>120.3</td>\n      <td>2450.9</td>\n      <td>721.0</td>\n      <td>1442.9</td>\n      <td>286.9</td>\n    </tr>\n    <tr>\n      <th>1967</th>\n      <td>197457000</td>\n      <td>499930</td>\n      <td>12240</td>\n      <td>27620</td>\n      <td>NaN</td>\n      <td>202910</td>\n      <td>257160</td>\n      <td>5403500</td>\n      <td>1632100</td>\n      <td>3111600</td>\n      <td>659800</td>\n      <td>253.2</td>\n      <td>6.2</td>\n      <td>14.0</td>\n      <td>NaN</td>\n      <td>102.8</td>\n      <td>130.2</td>\n      <td>2736.5</td>\n      <td>826.6</td>\n      <td>1575.8</td>\n      <td>334.1</td>\n    </tr>\n    <tr>\n      <th>1968</th>\n      <td>199399000</td>\n      <td>595010</td>\n      <td>13800</td>\n      <td>31670</td>\n      <td>NaN</td>\n      <td>262840</td>\n      <td>286700</td>\n      <td>6125200</td>\n      <td>1858900</td>\n      <td>3482700</td>\n      <td>783600</td>\n      <td>298.4</td>\n      <td>6.9</td>\n      <td>15.9</td>\n      <td>NaN</td>\n      <td>131.8</td>\n      <td>143.8</td>\n      <td>3071.8</td>\n      <td>932.3</td>\n      <td>1746.6</td>\n      <td>393.0</td>\n    </tr>\n    <tr>\n      <th>1969</th>\n      <td>201385000</td>\n      <td>661870</td>\n      <td>14760</td>\n      <td>37170</td>\n      <td>NaN</td>\n      <td>298850</td>\n      <td>311090</td>\n      <td>6749000</td>\n      <td>1981900</td>\n      <td>3888600</td>\n      <td>878500</td>\n      <td>328.7</td>\n      <td>7.3</td>\n      <td>18.5</td>\n      <td>NaN</td>\n      <td>148.4</td>\n      <td>154.5</td>\n      <td>3351.3</td>\n      <td>984.1</td>\n      <td>1930.9</td>\n      <td>436.2</td>\n    </tr>\n    <tr>\n      <th>1970</th>\n      <td>203235298</td>\n      <td>738820</td>\n      <td>16000</td>\n      <td>37990</td>\n      <td>NaN</td>\n      <td>349860</td>\n      <td>334970</td>\n      <td>7359200</td>\n      <td>2205000</td>\n      <td>4225800</td>\n      <td>928400</td>\n      <td>363.5</td>\n      <td>7.9</td>\n      <td>18.7</td>\n      <td>NaN</td>\n      <td>172.1</td>\n      <td>164.8</td>\n      <td>3621.0</td>\n      <td>1084.9</td>\n      <td>2079.3</td>\n      <td>456.8</td>\n    </tr>\n    <tr>\n      <th>1971</th>\n      <td>206212000</td>\n      <td>816500</td>\n      <td>17780</td>\n      <td>42260</td>\n      <td>NaN</td>\n      <td>387700</td>\n      <td>368760</td>\n      <td>7771700</td>\n      <td>2399300</td>\n      <td>4424200</td>\n      <td>948200</td>\n      <td>396.0</td>\n      <td>8.6</td>\n      <td>20.5</td>\n      <td>NaN</td>\n      <td>188.0</td>\n      <td>178.8</td>\n      <td>3768.8</td>\n      <td>1163.5</td>\n      <td>2145.5</td>\n      <td>459.8</td>\n    </tr>\n    <tr>\n      <th>1972</th>\n      <td>208230000</td>\n      <td>834900</td>\n      <td>18670</td>\n      <td>46850</td>\n      <td>NaN</td>\n      <td>376290</td>\n      <td>393090</td>\n      <td>7413900</td>\n      <td>2375500</td>\n      <td>4151200</td>\n      <td>887200</td>\n      <td>401.0</td>\n      <td>9.0</td>\n      <td>22.5</td>\n      <td>NaN</td>\n      <td>180.7</td>\n      <td>188.8</td>\n      <td>3560.4</td>\n      <td>1140.8</td>\n      <td>1993.6</td>\n      <td>426.1</td>\n    </tr>\n    <tr>\n      <th>1973</th>\n      <td>209851000</td>\n      <td>875910</td>\n      <td>19640</td>\n      <td>51400</td>\n      <td>NaN</td>\n      <td>384220</td>\n      <td>420650</td>\n      <td>7842200</td>\n      <td>2565500</td>\n      <td>4347900</td>\n      <td>928800</td>\n      <td>417.4</td>\n      <td>9.4</td>\n      <td>24.5</td>\n      <td>NaN</td>\n      <td>183.1</td>\n      <td>200.5</td>\n      <td>3737.0</td>\n      <td>1222.5</td>\n      <td>2071.9</td>\n      <td>442.6</td>\n    </tr>\n    <tr>\n      <th>1974</th>\n      <td>211392000</td>\n      <td>974720</td>\n      <td>20710</td>\n      <td>55400</td>\n      <td>NaN</td>\n      <td>442400</td>\n      <td>456210</td>\n      <td>9278700</td>\n      <td>3039200</td>\n      <td>5262500</td>\n      <td>977100</td>\n      <td>461.1</td>\n      <td>9.8</td>\n      <td>26.2</td>\n      <td>NaN</td>\n      <td>209.3</td>\n      <td>215.8</td>\n      <td>4389.3</td>\n      <td>1437.7</td>\n      <td>2489.5</td>\n      <td>462.2</td>\n    </tr>\n    <tr>\n      <th>1975</th>\n      <td>213124000</td>\n      <td>1039710</td>\n      <td>20510</td>\n      <td>56090</td>\n      <td>NaN</td>\n      <td>470500</td>\n      <td>492620</td>\n      <td>10252700</td>\n      <td>3265300</td>\n      <td>5977700</td>\n      <td>1009600</td>\n      <td>487.8</td>\n      <td>9.6</td>\n      <td>26.3</td>\n      <td>NaN</td>\n      <td>220.8</td>\n      <td>231.1</td>\n      <td>4810.7</td>\n      <td>1532.1</td>\n      <td>2804.8</td>\n      <td>473.7</td>\n    </tr>\n    <tr>\n      <th>1976</th>\n      <td>214659000</td>\n      <td>1004210</td>\n      <td>18780</td>\n      <td>57080</td>\n      <td>NaN</td>\n      <td>427810</td>\n      <td>500530</td>\n      <td>10345500</td>\n      <td>3108700</td>\n      <td>6270800</td>\n      <td>966000</td>\n      <td>467.8</td>\n      <td>8.7</td>\n      <td>26.6</td>\n      <td>NaN</td>\n      <td>199.3</td>\n      <td>233.2</td>\n      <td>4819.5</td>\n      <td>1448.2</td>\n      <td>2921.3</td>\n      <td>450.0</td>\n    </tr>\n    <tr>\n      <th>1977</th>\n      <td>216332000</td>\n      <td>1029580</td>\n      <td>19120</td>\n      <td>63500</td>\n      <td>NaN</td>\n      <td>412610</td>\n      <td>534350</td>\n      <td>9955000</td>\n      <td>3071500</td>\n      <td>5905700</td>\n      <td>977700</td>\n      <td>475.9</td>\n      <td>8.8</td>\n      <td>29.4</td>\n      <td>NaN</td>\n      <td>190.7</td>\n      <td>247.0</td>\n      <td>4601.7</td>\n      <td>1419.8</td>\n      <td>2729.9</td>\n      <td>451.9</td>\n    </tr>\n    <tr>\n      <th>1978</th>\n      <td>218059000</td>\n      <td>1085550</td>\n      <td>19560</td>\n      <td>67610</td>\n      <td>NaN</td>\n      <td>426930</td>\n      <td>571460</td>\n      <td>10123400</td>\n      <td>3128300</td>\n      <td>5991000</td>\n      <td>1004100</td>\n      <td>497.8</td>\n      <td>9.0</td>\n      <td>31.0</td>\n      <td>NaN</td>\n      <td>195.8</td>\n      <td>262.1</td>\n      <td>4642.5</td>\n      <td>1434.6</td>\n      <td>2747.4</td>\n      <td>460.5</td>\n    </tr>\n    <tr>\n      <th>1979</th>\n      <td>220099000</td>\n      <td>1208030</td>\n      <td>21460</td>\n      <td>76390</td>\n      <td>NaN</td>\n      <td>480700</td>\n      <td>629480</td>\n      <td>11041500</td>\n      <td>3327700</td>\n      <td>6601000</td>\n      <td>1112800</td>\n      <td>548.9</td>\n      <td>9.8</td>\n      <td>34.7</td>\n      <td>NaN</td>\n      <td>218.4</td>\n      <td>286.0</td>\n      <td>5016.6</td>\n      <td>1511.9</td>\n      <td>2999.1</td>\n      <td>505.6</td>\n    </tr>\n    <tr>\n      <th>1980</th>\n      <td>225349264</td>\n      <td>1344520</td>\n      <td>23040</td>\n      <td>82990</td>\n      <td>NaN</td>\n      <td>565840</td>\n      <td>672650</td>\n      <td>12063700</td>\n      <td>3795200</td>\n      <td>7136900</td>\n      <td>1131700</td>\n      <td>596.6</td>\n      <td>10.2</td>\n      <td>36.8</td>\n      <td>NaN</td>\n      <td>251.1</td>\n      <td>298.5</td>\n      <td>5353.3</td>\n      <td>1684.1</td>\n      <td>3167.0</td>\n      <td>502.2</td>\n    </tr>\n    <tr>\n      <th>1981</th>\n      <td>229465714</td>\n      <td>1361820</td>\n      <td>22520</td>\n      <td>82500</td>\n      <td>NaN</td>\n      <td>592910</td>\n      <td>663900</td>\n      <td>12061900</td>\n      <td>3779700</td>\n      <td>7194400</td>\n      <td>1087800</td>\n      <td>593.5</td>\n      <td>9.8</td>\n      <td>36.0</td>\n      <td>NaN</td>\n      <td>258.4</td>\n      <td>289.3</td>\n      <td>5256.5</td>\n      <td>1647.2</td>\n      <td>3135.3</td>\n      <td>474.1</td>\n    </tr>\n    <tr>\n      <th>1982</th>\n      <td>231664458</td>\n      <td>1322390</td>\n      <td>21010</td>\n      <td>78770</td>\n      <td>NaN</td>\n      <td>553130</td>\n      <td>669480</td>\n      <td>11652000</td>\n      <td>3447100</td>\n      <td>7142500</td>\n      <td>1062400</td>\n      <td>570.8</td>\n      <td>9.1</td>\n      <td>34.0</td>\n      <td>NaN</td>\n      <td>238.8</td>\n      <td>289.0</td>\n      <td>5029.7</td>\n      <td>1488.0</td>\n      <td>3083.1</td>\n      <td>458.6</td>\n    </tr>\n    <tr>\n      <th>1983</th>\n      <td>233791994</td>\n      <td>1258087</td>\n      <td>19308</td>\n      <td>78918</td>\n      <td>NaN</td>\n      <td>506567</td>\n      <td>653294</td>\n      <td>10850543</td>\n      <td>3129851</td>\n      <td>6712759</td>\n      <td>1007933</td>\n      <td>538.1</td>\n      <td>8.3</td>\n      <td>33.8</td>\n      <td>NaN</td>\n      <td>216.7</td>\n      <td>279.4</td>\n      <td>4641.1</td>\n      <td>1338.7</td>\n      <td>2871.3</td>\n      <td>431.1</td>\n    </tr>\n    <tr>\n      <th>1984</th>\n      <td>235824902</td>\n      <td>1273282</td>\n      <td>18692</td>\n      <td>84233</td>\n      <td>NaN</td>\n      <td>485008</td>\n      <td>685349</td>\n      <td>10608473</td>\n      <td>2984434</td>\n      <td>6591874</td>\n      <td>1032165</td>\n      <td>539.9</td>\n      <td>7.9</td>\n      <td>35.7</td>\n      <td>NaN</td>\n      <td>205.7</td>\n      <td>290.6</td>\n      <td>4498.5</td>\n      <td>1265.5</td>\n      <td>2795.2</td>\n      <td>437.7</td>\n    </tr>\n    <tr>\n      <th>1985</th>\n      <td>237923795</td>\n      <td>1327767</td>\n      <td>18976</td>\n      <td>87671</td>\n      <td>NaN</td>\n      <td>497874</td>\n      <td>723246</td>\n      <td>11102590</td>\n      <td>3073348</td>\n      <td>6926380</td>\n      <td>1102862</td>\n      <td>558.1</td>\n      <td>8.0</td>\n      <td>36.8</td>\n      <td>NaN</td>\n      <td>209.3</td>\n      <td>304.0</td>\n      <td>4666.4</td>\n      <td>1291.7</td>\n      <td>2911.2</td>\n      <td>463.5</td>\n    </tr>\n    <tr>\n      <th>1986</th>\n      <td>240132887</td>\n      <td>1489169</td>\n      <td>20613</td>\n      <td>91459</td>\n      <td>NaN</td>\n      <td>542775</td>\n      <td>834322</td>\n      <td>11722700</td>\n      <td>3241410</td>\n      <td>7257153</td>\n      <td>1224137</td>\n      <td>620.1</td>\n      <td>8.6</td>\n      <td>38.1</td>\n      <td>NaN</td>\n      <td>226.0</td>\n      <td>347.4</td>\n      <td>4881.8</td>\n      <td>1349.8</td>\n      <td>3022.1</td>\n      <td>509.8</td>\n    </tr>\n    <tr>\n      <th>1987</th>\n      <td>242288918</td>\n      <td>1483999</td>\n      <td>20096</td>\n      <td>91111</td>\n      <td>NaN</td>\n      <td>517704</td>\n      <td>855088</td>\n      <td>12024709</td>\n      <td>3236184</td>\n      <td>7499851</td>\n      <td>1288674</td>\n      <td>612.5</td>\n      <td>8.3</td>\n      <td>37.6</td>\n      <td>NaN</td>\n      <td>213.7</td>\n      <td>352.9</td>\n      <td>4963.0</td>\n      <td>1335.7</td>\n      <td>3095.4</td>\n      <td>531.9</td>\n    </tr>\n    <tr>\n      <th>1988</th>\n      <td>244498982</td>\n      <td>1566221</td>\n      <td>20675</td>\n      <td>92486</td>\n      <td>NaN</td>\n      <td>542968</td>\n      <td>910092</td>\n      <td>12356865</td>\n      <td>3218077</td>\n      <td>7705872</td>\n      <td>1432916</td>\n      <td>640.6</td>\n      <td>8.5</td>\n      <td>37.8</td>\n      <td>NaN</td>\n      <td>222.1</td>\n      <td>372.2</td>\n      <td>5054.0</td>\n      <td>1316.2</td>\n      <td>3151.7</td>\n      <td>586.1</td>\n    </tr>\n    <tr>\n      <th>1989</th>\n      <td>246819230</td>\n      <td>1646037</td>\n      <td>21500</td>\n      <td>94504</td>\n      <td>NaN</td>\n      <td>578326</td>\n      <td>951707</td>\n      <td>12605412</td>\n      <td>3168170</td>\n      <td>7872442</td>\n      <td>1564800</td>\n      <td>666.9</td>\n      <td>8.7</td>\n      <td>38.3</td>\n      <td>NaN</td>\n      <td>234.3</td>\n      <td>385.6</td>\n      <td>5107.1</td>\n      <td>1283.6</td>\n      <td>3189.6</td>\n      <td>634.0</td>\n    </tr>\n    <tr>\n      <th>1990</th>\n      <td>249464396</td>\n      <td>1820127</td>\n      <td>23438</td>\n      <td>102555</td>\n      <td>NaN</td>\n      <td>639271</td>\n      <td>1054863</td>\n      <td>12655486</td>\n      <td>3073909</td>\n      <td>7945670</td>\n      <td>1635907</td>\n      <td>729.6</td>\n      <td>9.4</td>\n      <td>41.1</td>\n      <td>NaN</td>\n      <td>256.3</td>\n      <td>422.9</td>\n      <td>5073.1</td>\n      <td>1232.2</td>\n      <td>3185.1</td>\n      <td>655.8</td>\n    </tr>\n    <tr>\n      <th>1991</th>\n      <td>252153092</td>\n      <td>1911767</td>\n      <td>24703</td>\n      <td>106593</td>\n      <td>NaN</td>\n      <td>687732</td>\n      <td>1092739</td>\n      <td>12961116</td>\n      <td>3157150</td>\n      <td>8142228</td>\n      <td>1661738</td>\n      <td>758.2</td>\n      <td>9.8</td>\n      <td>42.3</td>\n      <td>NaN</td>\n      <td>272.7</td>\n      <td>433.4</td>\n      <td>5140.2</td>\n      <td>1252.1</td>\n      <td>3229.1</td>\n      <td>659.0</td>\n    </tr>\n    <tr>\n      <th>1992</th>\n      <td>255029699</td>\n      <td>1932274</td>\n      <td>23760</td>\n      <td>109062</td>\n      <td>NaN</td>\n      <td>672478</td>\n      <td>1126974</td>\n      <td>12505917</td>\n      <td>2979884</td>\n      <td>7915199</td>\n      <td>1610834</td>\n      <td>757.7</td>\n      <td>9.3</td>\n      <td>42.8</td>\n      <td>NaN</td>\n      <td>263.7</td>\n      <td>441.9</td>\n      <td>4903.7</td>\n      <td>1168.4</td>\n      <td>3103.6</td>\n      <td>631.6</td>\n    </tr>\n    <tr>\n      <th>1993</th>\n      <td>257782608</td>\n      <td>1926017</td>\n      <td>24526</td>\n      <td>106014</td>\n      <td>NaN</td>\n      <td>659870</td>\n      <td>1135607</td>\n      <td>12218777</td>\n      <td>2834808</td>\n      <td>7820909</td>\n      <td>1563060</td>\n      <td>747.1</td>\n      <td>9.5</td>\n      <td>41.1</td>\n      <td>NaN</td>\n      <td>256.0</td>\n      <td>440.5</td>\n      <td>4740.0</td>\n      <td>1099.7</td>\n      <td>3033.9</td>\n      <td>606.3</td>\n    </tr>\n    <tr>\n      <th>1994</th>\n      <td>260327021</td>\n      <td>1857670</td>\n      <td>23326</td>\n      <td>102216</td>\n      <td>NaN</td>\n      <td>618949</td>\n      <td>1113179</td>\n      <td>12131873</td>\n      <td>2712774</td>\n      <td>7879812</td>\n      <td>1539287</td>\n      <td>713.6</td>\n      <td>9.0</td>\n      <td>39.3</td>\n      <td>NaN</td>\n      <td>237.8</td>\n      <td>427.6</td>\n      <td>4660.2</td>\n      <td>1042.1</td>\n      <td>3026.9</td>\n      <td>591.3</td>\n    </tr>\n    <tr>\n      <th>1995</th>\n      <td>262803276</td>\n      <td>1798792</td>\n      <td>21606</td>\n      <td>97470</td>\n      <td>NaN</td>\n      <td>580509</td>\n      <td>1099207</td>\n      <td>12063935</td>\n      <td>2593784</td>\n      <td>7997710</td>\n      <td>1472441</td>\n      <td>684.5</td>\n      <td>8.2</td>\n      <td>37.1</td>\n      <td>NaN</td>\n      <td>220.9</td>\n      <td>418.3</td>\n      <td>4590.5</td>\n      <td>987.0</td>\n      <td>3043.2</td>\n      <td>560.3</td>\n    </tr>\n    <tr>\n      <th>1996</th>\n      <td>265228572</td>\n      <td>1688540</td>\n      <td>19645</td>\n      <td>96252</td>\n      <td>NaN</td>\n      <td>535594</td>\n      <td>1037049</td>\n      <td>11805323</td>\n      <td>2506400</td>\n      <td>7904685</td>\n      <td>1394238</td>\n      <td>636.6</td>\n      <td>7.4</td>\n      <td>36.3</td>\n      <td>NaN</td>\n      <td>201.9</td>\n      <td>391.0</td>\n      <td>4451.0</td>\n      <td>945.0</td>\n      <td>2980.3</td>\n      <td>525.7</td>\n    </tr>\n    <tr>\n      <th>1997</th>\n      <td>267783607</td>\n      <td>1636096</td>\n      <td>18208</td>\n      <td>96153</td>\n      <td>NaN</td>\n      <td>498534</td>\n      <td>1023201</td>\n      <td>11558475</td>\n      <td>2460526</td>\n      <td>7743760</td>\n      <td>1354189</td>\n      <td>611.0</td>\n      <td>6.8</td>\n      <td>35.9</td>\n      <td>NaN</td>\n      <td>186.2</td>\n      <td>382.1</td>\n      <td>4316.3</td>\n      <td>918.8</td>\n      <td>2891.8</td>\n      <td>505.7</td>\n    </tr>\n    <tr>\n      <th>1998</th>\n      <td>270248003</td>\n      <td>1533887</td>\n      <td>16974</td>\n      <td>93144</td>\n      <td>NaN</td>\n      <td>447186</td>\n      <td>976583</td>\n      <td>10951827</td>\n      <td>2332735</td>\n      <td>7376311</td>\n      <td>1242781</td>\n      <td>567.6</td>\n      <td>6.3</td>\n      <td>34.5</td>\n      <td>NaN</td>\n      <td>165.5</td>\n      <td>361.4</td>\n      <td>4052.5</td>\n      <td>863.2</td>\n      <td>2729.5</td>\n      <td>459.9</td>\n    </tr>\n    <tr>\n      <th>1999</th>\n      <td>272690813</td>\n      <td>1426044</td>\n      <td>15522</td>\n      <td>89411</td>\n      <td>NaN</td>\n      <td>409371</td>\n      <td>911740</td>\n      <td>10208334</td>\n      <td>2100739</td>\n      <td>6955520</td>\n      <td>1152075</td>\n      <td>523.0</td>\n      <td>5.7</td>\n      <td>32.8</td>\n      <td>NaN</td>\n      <td>150.1</td>\n      <td>334.3</td>\n      <td>3743.6</td>\n      <td>770.4</td>\n      <td>2550.7</td>\n      <td>422.5</td>\n    </tr>\n    <tr>\n      <th>2000</th>\n      <td>281421906</td>\n      <td>1425486</td>\n      <td>15586</td>\n      <td>90178</td>\n      <td>NaN</td>\n      <td>408016</td>\n      <td>911706</td>\n      <td>10182584</td>\n      <td>2050992</td>\n      <td>6971590</td>\n      <td>1160002</td>\n      <td>506.5</td>\n      <td>5.5</td>\n      <td>32.0</td>\n      <td>NaN</td>\n      <td>145.0</td>\n      <td>324.0</td>\n      <td>3618.3</td>\n      <td>728.8</td>\n      <td>2477.3</td>\n      <td>412.2</td>\n    </tr>\n    <tr>\n      <th>2001</th>\n      <td>285317559</td>\n      <td>1439480</td>\n      <td>16037</td>\n      <td>90863</td>\n      <td>NaN</td>\n      <td>423557</td>\n      <td>909023</td>\n      <td>10437189</td>\n      <td>2116531</td>\n      <td>7092267</td>\n      <td>1228391</td>\n      <td>504.5</td>\n      <td>5.6</td>\n      <td>31.8</td>\n      <td>NaN</td>\n      <td>148.5</td>\n      <td>318.6</td>\n      <td>3658.1</td>\n      <td>741.8</td>\n      <td>2485.7</td>\n      <td>430.5</td>\n    </tr>\n    <tr>\n      <th>2002</th>\n      <td>287973924</td>\n      <td>1423677</td>\n      <td>16229</td>\n      <td>95235</td>\n      <td>NaN</td>\n      <td>420806</td>\n      <td>891407</td>\n      <td>10455277</td>\n      <td>2151252</td>\n      <td>7057379</td>\n      <td>1246646</td>\n      <td>494.4</td>\n      <td>5.6</td>\n      <td>33.1</td>\n      <td>NaN</td>\n      <td>146.1</td>\n      <td>309.5</td>\n      <td>3630.6</td>\n      <td>747.0</td>\n      <td>2450.7</td>\n      <td>432.9</td>\n    </tr>\n    <tr>\n      <th>2003</th>\n      <td>290788976</td>\n      <td>1383676</td>\n      <td>16528</td>\n      <td>93883</td>\n      <td>NaN</td>\n      <td>414235</td>\n      <td>859030</td>\n      <td>10442862</td>\n      <td>2154834</td>\n      <td>7026802</td>\n      <td>1261226</td>\n      <td>475.8</td>\n      <td>5.7</td>\n      <td>32.3</td>\n      <td>NaN</td>\n      <td>142.5</td>\n      <td>295.4</td>\n      <td>3591.2</td>\n      <td>741.0</td>\n      <td>2416.5</td>\n      <td>433.7</td>\n    </tr>\n    <tr>\n      <th>2004</th>\n      <td>293656842</td>\n      <td>1360088</td>\n      <td>16148</td>\n      <td>95089</td>\n      <td>NaN</td>\n      <td>401470</td>\n      <td>847381</td>\n      <td>10319386</td>\n      <td>2144446</td>\n      <td>6937089</td>\n      <td>1237851</td>\n      <td>463.2</td>\n      <td>5.5</td>\n      <td>32.4</td>\n      <td>NaN</td>\n      <td>136.7</td>\n      <td>288.6</td>\n      <td>3514.1</td>\n      <td>730.3</td>\n      <td>2362.3</td>\n      <td>421.5</td>\n    </tr>\n    <tr>\n      <th>2005</th>\n      <td>296507061</td>\n      <td>1390745</td>\n      <td>16740</td>\n      <td>94347</td>\n      <td>NaN</td>\n      <td>417438</td>\n      <td>862220</td>\n      <td>10174754</td>\n      <td>2155448</td>\n      <td>6783447</td>\n      <td>1235859</td>\n      <td>469.0</td>\n      <td>5.6</td>\n      <td>31.8</td>\n      <td>NaN</td>\n      <td>140.8</td>\n      <td>290.8</td>\n      <td>3431.5</td>\n      <td>726.9</td>\n      <td>2287.8</td>\n      <td>416.8</td>\n    </tr>\n    <tr>\n      <th>2006</th>\n      <td>299398484</td>\n      <td>1435123</td>\n      <td>17309</td>\n      <td>94472</td>\n      <td>NaN</td>\n      <td>449246</td>\n      <td>874096</td>\n      <td>10019601</td>\n      <td>2194993</td>\n      <td>6626363</td>\n      <td>1198245</td>\n      <td>479.3</td>\n      <td>5.8</td>\n      <td>31.6</td>\n      <td>NaN</td>\n      <td>150.0</td>\n      <td>292.0</td>\n      <td>3346.6</td>\n      <td>733.1</td>\n      <td>2213.2</td>\n      <td>400.2</td>\n    </tr>\n    <tr>\n      <th>2007</th>\n      <td>301621157</td>\n      <td>1422970</td>\n      <td>17128</td>\n      <td>92160</td>\n      <td>NaN</td>\n      <td>447324</td>\n      <td>866358</td>\n      <td>9882212</td>\n      <td>2190198</td>\n      <td>6591542</td>\n      <td>1100472</td>\n      <td>471.8</td>\n      <td>5.7</td>\n      <td>30.6</td>\n      <td>NaN</td>\n      <td>148.3</td>\n      <td>287.2</td>\n      <td>3276.4</td>\n      <td>726.1</td>\n      <td>2185.4</td>\n      <td>364.9</td>\n    </tr>\n    <tr>\n      <th>2008</th>\n      <td>304059724</td>\n      <td>1394461</td>\n      <td>16465</td>\n      <td>90750</td>\n      <td>NaN</td>\n      <td>443563</td>\n      <td>843683</td>\n      <td>9774152</td>\n      <td>2228887</td>\n      <td>6586206</td>\n      <td>959059</td>\n      <td>458.6</td>\n      <td>5.4</td>\n      <td>29.8</td>\n      <td>NaN</td>\n      <td>145.9</td>\n      <td>277.5</td>\n      <td>3214.6</td>\n      <td>733.0</td>\n      <td>2166.1</td>\n      <td>315.4</td>\n    </tr>\n    <tr>\n      <th>2009</th>\n      <td>307006550</td>\n      <td>1325896</td>\n      <td>15399</td>\n      <td>89241</td>\n      <td>NaN</td>\n      <td>408742</td>\n      <td>812514</td>\n      <td>9337060</td>\n      <td>2203313</td>\n      <td>6338095</td>\n      <td>795652</td>\n      <td>431.9</td>\n      <td>5.0</td>\n      <td>29.1</td>\n      <td>NaN</td>\n      <td>133.1</td>\n      <td>264.7</td>\n      <td>3041.3</td>\n      <td>717.7</td>\n      <td>2064.5</td>\n      <td>259.2</td>\n    </tr>\n    <tr>\n      <th>2010</th>\n      <td>309330219</td>\n      <td>1251248</td>\n      <td>14722</td>\n      <td>85593</td>\n      <td>NaN</td>\n      <td>369089</td>\n      <td>781844</td>\n      <td>9112625</td>\n      <td>2168459</td>\n      <td>6204601</td>\n      <td>739565</td>\n      <td>404.5</td>\n      <td>4.8</td>\n      <td>27.7</td>\n      <td>NaN</td>\n      <td>119.3</td>\n      <td>252.8</td>\n      <td>2945.9</td>\n      <td>701.0</td>\n      <td>2005.8</td>\n      <td>239.1</td>\n    </tr>\n    <tr>\n      <th>2011</th>\n      <td>311587816</td>\n      <td>1206031</td>\n      <td>14661</td>\n      <td>84175</td>\n      <td>NaN</td>\n      <td>354772</td>\n      <td>752423</td>\n      <td>9052743</td>\n      <td>2185140</td>\n      <td>6151095</td>\n      <td>716508</td>\n      <td>387.1</td>\n      <td>4.7</td>\n      <td>27.0</td>\n      <td>NaN</td>\n      <td>113.9</td>\n      <td>241.5</td>\n      <td>2905.4</td>\n      <td>701.3</td>\n      <td>1974.1</td>\n      <td>230.0</td>\n    </tr>\n    <tr>\n      <th>2012</th>\n      <td>313873685</td>\n      <td>1217067</td>\n      <td>14866</td>\n      <td>85141</td>\n      <td>NaN</td>\n      <td>355051</td>\n      <td>762009</td>\n      <td>9001992</td>\n      <td>2109932</td>\n      <td>6168874</td>\n      <td>723186</td>\n      <td>387.8</td>\n      <td>4.7</td>\n      <td>27.1</td>\n      <td>NaN</td>\n      <td>113.1</td>\n      <td>242.8</td>\n      <td>2868.0</td>\n      <td>672.2</td>\n      <td>1965.4</td>\n      <td>230.4</td>\n    </tr>\n    <tr>\n      <th>2013</th>\n      <td>316497531</td>\n      <td>1199684</td>\n      <td>14319</td>\n      <td>82109</td>\n      <td>113695.0</td>\n      <td>345095</td>\n      <td>726575</td>\n      <td>8650761</td>\n      <td>1931835</td>\n      <td>6018632</td>\n      <td>700294</td>\n      <td>379.1</td>\n      <td>4.5</td>\n      <td>25.9</td>\n      <td>35.9</td>\n      <td>109.0</td>\n      <td>229.6</td>\n      <td>2733.3</td>\n      <td>610.4</td>\n      <td>1901.6</td>\n      <td>221.3</td>\n    </tr>\n    <tr>\n      <th>2014</th>\n      <td>318857056</td>\n      <td>1197987</td>\n      <td>14249</td>\n      <td>84041</td>\n      <td>116645.0</td>\n      <td>325802</td>\n      <td>741291</td>\n      <td>8277829</td>\n      <td>1729806</td>\n      <td>5858496</td>\n      <td>689527</td>\n      <td>375.7</td>\n      <td>4.5</td>\n      <td>26.4</td>\n      <td>36.6</td>\n      <td>102.2</td>\n      <td>232.5</td>\n      <td>2596.1</td>\n      <td>542.5</td>\n      <td>1837.3</td>\n      <td>216.2</td>\n    </tr>\n  </tbody>\n</table>\n</div>"
     },
     "metadata": {},
     "execution_count": 189
    }
   ],
   "source": [
    "df"
   ]
  },
  {
   "cell_type": "code",
   "execution_count": 190,
   "metadata": {},
   "outputs": [],
   "source": [
    "df.index = df.index.astype(int)"
   ]
  },
  {
   "cell_type": "code",
   "execution_count": 191,
   "metadata": {},
   "outputs": [],
   "source": [
    "from sqlalchemy import create_engine\n",
    "\n",
    "import pymysql"
   ]
  },
  {
   "cell_type": "code",
   "execution_count": 192,
   "metadata": {},
   "outputs": [],
   "source": [
    "tableName = 'milestone3'\n",
    "sqlEngine = create_engine('mysql+pymysql://root:@127.0.0.1/crime', pool_recycle=3600)\n",
    "dbConnection = sqlEngine.connect()"
   ]
  },
  {
   "cell_type": "code",
   "execution_count": 193,
   "metadata": {},
   "outputs": [
    {
     "output_type": "stream",
     "name": "stdout",
     "text": "Table milestone3 created successfully.\n"
    }
   ],
   "source": [
    "try:\n",
    "    frame = df.to_sql(tableName, dbConnection, if_exists='replace');\n",
    "except ValueError as vx:\n",
    "    print(vx)\n",
    "except Exception as ex:   \n",
    "    print(ex)\n",
    "else:\n",
    "    print(\"Table %s created successfully.\"%tableName);   \n",
    "finally:\n",
    "    dbConnection.close()"
   ]
  },
  {
   "cell_type": "code",
   "execution_count": 194,
   "metadata": {},
   "outputs": [
    {
     "output_type": "execute_result",
     "data": {
      "text/plain": "Population                                     int64\nViolent Crime Total                            int64\nMurder and Nonnegligent Manslaughter           int64\nLegacy Rape                                    int64\nRevised Rape                                 float64\nRobbery                                        int64\nAggravated Assault                             int64\nProperty Crime Total                           int64\nBurglary                                       int64\nLarceny-Theft                                  int64\nMotor Vehicle Theft                            int64\nViolent Crime Rate                           float64\nMurder and Nonnegligent Manslaughter Rate    float64\nLegacy Rape Rate                             float64\nRevised Rape Rate                            float64\nRobbery Rate                                 float64\nAggravated Assault Rate                      float64\nProperty Crime Rate                          float64\nBurglary Rate                                float64\nLarceny-Theft Rate                           float64\nMotor Vehicle Theft Rate                     float64\ndtype: object"
     },
     "metadata": {},
     "execution_count": 194
    }
   ],
   "source": [
    "df.dtypes"
   ]
  },
  {
   "cell_type": "code",
   "execution_count": null,
   "metadata": {},
   "outputs": [],
   "source": []
  }
 ],
 "metadata": {
  "language_info": {
   "codemirror_mode": {
    "name": "ipython",
    "version": 3
   },
   "file_extension": ".py",
   "mimetype": "text/x-python",
   "name": "python",
   "nbconvert_exporter": "python",
   "pygments_lexer": "ipython3",
   "version": "3.7.7-final"
  },
  "orig_nbformat": 2,
  "kernelspec": {
   "name": "python37764bitdsc540condae741a851ad9b4e02a5e806435e5da5a7",
   "display_name": "Python 3.7.7 64-bit ('DSC540': conda)"
  }
 },
 "nbformat": 4,
 "nbformat_minor": 2
}